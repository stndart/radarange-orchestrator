{
 "cells": [
  {
   "cell_type": "code",
   "execution_count": 1,
   "metadata": {},
   "outputs": [],
   "source": [
    "import sys\n",
    "sys.path.append(\"../../\")\n",
    "from radarange_orchestrator import llm"
   ]
  },
  {
   "cell_type": "code",
   "execution_count": 2,
   "metadata": {},
   "outputs": [
    {
     "name": "stderr",
     "output_type": "stream",
     "text": [
      "llama_init_from_model: n_ctx_per_seq (80128) < n_ctx_train (131072) -- the full capacity of the model will not be utilized\n"
     ]
    }
   ],
   "source": [
    "from radarange_orchestrator.tools import pdf_tool, ls_tool\n",
    "m = llm()\n",
    "default_tools = [pdf_tool, ls_tool]"
   ]
  },
  {
   "cell_type": "code",
   "execution_count": 3,
   "metadata": {},
   "outputs": [
    {
     "name": "stdout",
     "output_type": "stream",
     "text": [
      "{'$defs': {'Article': {'description': 'Reference information, including authors, title, journal and date', 'properties': {'authors': {'title': 'Authors', 'type': 'string'}, 'title': {'title': 'Title', 'type': 'string'}, 'journal': {'title': 'Journal', 'type': 'string'}, 'issue_number_page': {'anyOf': [{'type': 'string'}, {'type': 'null'}], 'default': None, 'title': 'Issue Number Page'}, 'year': {'anyOf': [{'type': 'integer'}, {'type': 'null'}], 'default': None, 'title': 'Year'}}, 'required': ['authors', 'title', 'journal'], 'title': 'Article', 'type': 'object'}}, 'description': 'References list of a science article', 'items': {'$ref': '#/$defs/Article'}, 'title': 'ArticleList', 'type': 'array'}\n"
     ]
    }
   ],
   "source": [
    "from pydantic import BaseModel, RootModel\n",
    "from llama_cpp import LlamaGrammar\n",
    "import json\n",
    "\n",
    "class Article(BaseModel):\n",
    "    \"\"\"Reference information, including authors, title, journal and date\"\"\"\n",
    "    authors: str\n",
    "    title: str\n",
    "    journal: str\n",
    "    issue_number_page: str | None = None\n",
    "    year: int | None = None\n",
    "\n",
    "class ArticleList(RootModel[list[Article]]):\n",
    "    \"\"\"References list of a science article\"\"\"\n",
    "    root: list[Article]\n",
    "\n",
    "schema_dict = ArticleList.model_json_schema()\n",
    "print(schema_dict)\n",
    "grammar = LlamaGrammar.from_json_schema(json.dumps(schema_dict))"
   ]
  },
  {
   "cell_type": "code",
   "execution_count": 4,
   "metadata": {},
   "outputs": [],
   "source": [
    "from radarange_orchestrator.chat import Chat\n",
    "from radarange_orchestrator.tools.grammar_switch_tool import create_set_grammar_tool\n",
    "\n",
    "\n",
    "path = \"downloads/Drofa_NV_centers_2023.pdf\"\n",
    "prompt = \"\"\"\n",
    "В папке downloads лежит статья в формате pdf. Заполни информацию о ссылках из неё.\n",
    "\"\"\"\n",
    "def attempt(system_prompt: str) -> tuple[str, Chat]:\n",
    "    chat = m.chat(tools = default_tools)\n",
    "    chat.add_user_message(prompt)\n",
    "    chat.add_system_message(system_prompt)\n",
    "    \n",
    "    grammar_context, fly_tool = create_set_grammar_tool(grammar)\n",
    "    chat.tools.append(fly_tool)\n",
    "    r, inner_chat = m.act_with_grammar(\n",
    "        chat, grammar_context=grammar_context,\n",
    "        max_tokens_per_message=10000, temperature=0, max_prediction_rounds=10\n",
    "    )\n",
    "    return r.content, inner_chat"
   ]
  },
  {
   "cell_type": "code",
   "execution_count": null,
   "metadata": {},
   "outputs": [],
   "source": [
    "from radarange_orchestrator.llm_types import Response\n",
    "\n",
    "def prepare_prompt(prompt: str, inner_chat: Chat, history: list[str]) -> str:\n",
    "    llm_messages: list[str] = []\n",
    "    for message in inner_chat.history:\n",
    "        if isinstance(message, Response):\n",
    "            llm_messages.append(message.content)\n",
    "\n",
    "    joined_history = '\\n'.join([f'[Attempt {i}]: {text}' for i, text in enumerate(history)])\n",
    "    pre_prompt = f\"\"\"\n",
    "You need to adjust the system prompt so that llm would do a sequence of acts, and the final response should apply to given json formatting\n",
    "Here is the user prompt that will be passed to llm to fulfill:\n",
    "{prompt}\n",
    "\n",
    "Here is the first message from llm from previous acting sequence:\n",
    "{llm_messages[0]}\n",
    "\n",
    "Here is the last message, that should've been the right json format, but failed validation:\n",
    "{llm_messages[-1]}\n",
    "\n",
    "The history of system prompt attempts:\n",
    "{joined_history}\n",
    "    \n",
    "Now you need to print only the next system prompt as in previous system prompt examples, and nothing else.\n",
    "\"\"\"\n",
    "    return pre_prompt"
   ]
  },
  {
   "cell_type": "code",
   "execution_count": 6,
   "metadata": {},
   "outputs": [],
   "source": [
    "from pydantic import ValidationError\n",
    "\n",
    "def validate(r: str) -> bool:\n",
    "    try:\n",
    "        ArticleList.model_validate_strings(r)\n",
    "    except ValidationError:\n",
    "        return False\n",
    "    return True"
   ]
  },
  {
   "cell_type": "code",
   "execution_count": null,
   "metadata": {},
   "outputs": [
    {
     "name": "stdout",
     "output_type": "stream",
     "text": [
      "Called list_directory with path: downloads\n",
      "Called pdf_read with path: downloads/Drofa_NV_centers_2023.pdf\n",
      "Taken 0.2 seconds to complete.\n",
      "Called switch grammar\n"
     ]
    }
   ],
   "source": [
    "system_prompt = m.DEFAULT_GRAMMAR_SYSTEM_PROMPT\n",
    "history = [system_prompt]\n",
    "inner_chats = []\n",
    "\n",
    "N = 2\n",
    "for i in range(N):\n",
    "    r, inner_chat = attempt(history[-1])\n",
    "    inner_chats.append(inner_chat)\n",
    "    if validate(r):\n",
    "        break\n",
    "    \n",
    "    pre_prompt = prepare_prompt(prompt, inner_chat, history)\n",
    "    r = m.respond(pre_prompt, temperature=0, max_tokens = 2000)\n",
    "    history.append(r.content)"
   ]
  },
  {
   "cell_type": "code",
   "execution_count": 8,
   "metadata": {},
   "outputs": [
    {
     "data": {
      "text/plain": [
       "['\\nUser expects you to fulfill the task in a few separate steps.\\nSince output is strictly formatted, but perhaps you need to make some intermediate generations, grammar is yet unset.\\nBefore telling the answer to user, call grammar switch tool and wait for it to successfully complete.\\nThe next response from you will be applied with correct grammar, so make sure to separate output into separate message.\\n',\n",
       " '<think>\\nOkay, let me try to figure out what\\'s going on here. The user wants to extract links from a PDF in their downloads folder. The assistant first tried to list the directory, but the response was just \"[]\", which probably means there were no files listed. Wait, maybe the path is incorrect or the PDF isn\\'t there? The user might have a typo in the folder name or the PDF isn\\'t actually in that directory.\\n\\nHmm, the next step should be to check if the PDF exists. Since listing the directory returned an empty array, maybe the path is wrong. The assistant should probably ask the user to confirm the exact name and location of the PDF file. Alternatively, maybe the list_directory function needs a different path, like \"Downloads\" with a capital D. Case sensitivity could be an issue here.\\n\\nAlternatively, perhaps the PDF is there but the function didn\\'t return it. The assistant should handle this by prompting the user for more details. The user might need to provide the exact filename so the assistant can read it directly. Without knowing the filename, the assistant can\\'t proceed to extract links. So the next step should be to inform the user that the directory is empty and ask for the correct path or filename. That way, the assistant can then use the correct path in subsequent steps to read the PDF and extract the links as required.\\n</think>\\n\\n{\\n  \"name\": \"inform_user\",\\n  \"arguments\": {\\n    \"message\": \"The \\'downloads\\' directory appears empty. Please confirm the exact name and location of the PDF file you want to process.\"\\n  }\\n}',\n",
       " '<think>\\nOkay, let me try to figure out how to adjust the system prompt so that the LLM will follow the sequence of actions and provide the final response in the required JSON format. \\n\\nThe user\\'s initial request is to extract links from a PDF in the downloads folder. The previous attempts resulted in an error because the directory was empty or the path was incorrect. The last response was an error message, but it failed JSON validation. \\n\\nLooking at the history, the first attempt\\'s system prompt told the assistant to use separate steps, switch grammar, and format the output correctly. The second attempt had an action to inform the user about the empty directory. However, the error message wasn\\'t properly formatted as JSON, so it failed validation.\\n\\nThe key issue here is ensuring that the final response adheres strictly to the JSON schema provided. The error message needs to be structured correctly. The previous error message was just a string enclosed in <error> tags, but the system expects a JSON object with specific fields like \"name\" and \"arguments\".\\n\\nSo, the system prompt needs to enforce that every response, including errors, is in the correct JSON format. The assistant should first check the directory, handle any issues by informing the user through a properly formatted JSON action, and only after getting the correct path proceed to extract the links.\\n\\nI should structure the system prompt to guide the LLM step-by-step: first verify the file existence, use list_directory, then if empty, trigger an inform_user action with the correct JSON structure. This way, even errors are formatted properly, avoiding validation failures.\\n\\nTherefore, the system prompt should instruct the LLM to always return actions in the specified JSON format, ensuring that messages like the directory being empty are wrapped in the correct structure. This prevents the LLM from generating free-text errors and enforces the schema strictly.\\n</think>\\n\\n{\\n  \"name\": \"inform_user\",\\n  \"arguments\": {\\n    \"message\": \"The directory \\'downloads\\' does not contain any files or the path is incorrect. Please verify the exact name and location of your PDF file.\"\\n  }\\n}']"
      ]
     },
     "execution_count": 8,
     "metadata": {},
     "output_type": "execute_result"
    }
   ],
   "source": [
    "history"
   ]
  },
  {
   "cell_type": "code",
   "execution_count": 9,
   "metadata": {},
   "outputs": [
    {
     "data": {
      "text/html": [
       "\n",
       "    <style>\n",
       "        body, .container {\n",
       "            background: #1e1e1e;  /* Dark background like VS Code */\n",
       "            color: #ccc;     /* Light grey text */\n",
       "        }\n",
       "        think {\n",
       "            display: block;\n",
       "            background: #333;\n",
       "            border-left: 4px solid #007acc;\n",
       "            margin: 10px 0;\n",
       "            padding: 10px;\n",
       "            color: #fff;\n",
       "            white-space: pre-wrap;\n",
       "        }\n",
       "        tool_call {\n",
       "            display: block;\n",
       "            background: #131;\n",
       "            border-left: 4px solid #007acc;\n",
       "            margin: 10px 0;\n",
       "            padding: 10px;\n",
       "            color: #fbf;\n",
       "            white-space: pre-wrap;\n",
       "        }\n",
       "    </style>\n",
       "    <body><div class=\"container\"><think>\n",
       "Okay, let me try to figure out how to approach this. The user mentioned there's a PDF in the downloads folder, and they want the links extracted from it. \n",
       "\n",
       "First, I need to check if the PDF is actually there. The previous attempt to list the directory returned an empty array, which might mean either the directory is empty or the path was incorrect. Maybe the path should be \"Downloads\" with a capital D, depending on the system's case sensitivity. Or perhaps there's a typo in the folder name.\n",
       "\n",
       "Since listing the directory didn't show any files, I should inform the user about this discrepancy. They might have the wrong path or the filename. The next step is to ask them to verify the correct name and location of the PDF. Without the right path, the pdf_read function can't access the file. So I'll need to prompt them for more details before proceeding further. That way, once I have the correct information, I can then use pdf_read to extract the content and parse the links from there.\n",
       "</think>\n",
       "\n",
       "<error>\n",
       "The directory 'downloads' does not contain any files or the path is incorrect. Please verify the exact name and location of your PDF file.\n",
       "</error></div></body>"
      ],
      "text/plain": [
       "<IPython.core.display.HTML object>"
      ]
     },
     "execution_count": 9,
     "metadata": {},
     "output_type": "execute_result"
    }
   ],
   "source": [
    "from radarange_orchestrator.utils.display import display_message\n",
    "\n",
    "\n",
    "display_message(inner_chat[-1])"
   ]
  },
  {
   "cell_type": "code",
   "execution_count": 10,
   "metadata": {},
   "outputs": [
    {
     "data": {
      "text/html": [
       "\n",
       "    <style>\n",
       "        body, .container {\n",
       "            background: #1e1e1e;  /* Dark background like VS Code */\n",
       "            color: #ccc;     /* Light grey text */\n",
       "        }\n",
       "        think {\n",
       "            display: block;\n",
       "            background: #333;\n",
       "            border-left: 4px solid #007acc;\n",
       "            margin: 10px 0;\n",
       "            padding: 10px;\n",
       "            color: #fff;\n",
       "            white-space: pre-wrap;\n",
       "        }\n",
       "        tool_call {\n",
       "            display: block;\n",
       "            background: #131;\n",
       "            border-left: 4px solid #007acc;\n",
       "            margin: 10px 0;\n",
       "            padding: 10px;\n",
       "            color: #fbf;\n",
       "            white-space: pre-wrap;\n",
       "        }\n",
       "    </style>\n",
       "    <body><div class=\"container\">\n",
       "В папке downloads лежит статья в формате pdf. Заполни информацию о ссылках из неё.\n",
       "</div></body>"
      ],
      "text/plain": [
       "<IPython.core.display.HTML object>"
      ]
     },
     "metadata": {},
     "output_type": "display_data"
    },
    {
     "data": {
      "text/html": [
       "\n",
       "    <style>\n",
       "        body, .container {\n",
       "            background: #1e1e1e;  /* Dark background like VS Code */\n",
       "            color: #ccc;     /* Light grey text */\n",
       "        }\n",
       "        think {\n",
       "            display: block;\n",
       "            background: #333;\n",
       "            border-left: 4px solid #007acc;\n",
       "            margin: 10px 0;\n",
       "            padding: 10px;\n",
       "            color: #fff;\n",
       "            white-space: pre-wrap;\n",
       "        }\n",
       "        tool_call {\n",
       "            display: block;\n",
       "            background: #131;\n",
       "            border-left: 4px solid #007acc;\n",
       "            margin: 10px 0;\n",
       "            padding: 10px;\n",
       "            color: #fbf;\n",
       "            white-space: pre-wrap;\n",
       "        }\n",
       "    </style>\n",
       "    <body><div class=\"container\"><think>\n",
       "Okay, let me try to figure out what's going on here. The user wants to extract links from a PDF in their downloads folder. The assistant first tried to list the directory, but the response was just \"[]\", which probably means there were no files listed. Wait, maybe the path is incorrect or the PDF isn't there? The user might have a typo in the folder name or the PDF isn't actually in that directory.\n",
       "\n",
       "Hmm, the next step should be to check if the PDF exists. Since listing the directory returned an empty array, maybe the path is wrong. The assistant should probably ask the user to confirm the exact name and location of the PDF file. Alternatively, maybe the list_directory function needs a different path, like \"Downloads\" with a capital D. Case sensitivity could be an issue here.\n",
       "\n",
       "Alternatively, perhaps the PDF is there but the function didn't return it. The assistant should handle this by prompting the user for more details. The user might need to provide the exact filename so the assistant can read it directly. Without knowing the filename, the assistant can't proceed to extract links. So the next step should be to inform the user that the directory is empty and ask for the correct path or filename. That way, the assistant can then use the correct path in subsequent steps to read the PDF and extract the links as required.\n",
       "</think>\n",
       "\n",
       "{\n",
       "  \"name\": \"inform_user\",\n",
       "  \"arguments\": {\n",
       "    \"message\": \"The 'downloads' directory appears empty. Please confirm the exact name and location of the PDF file you want to process.\"\n",
       "  }\n",
       "}</div></body>"
      ],
      "text/plain": [
       "<IPython.core.display.HTML object>"
      ]
     },
     "metadata": {},
     "output_type": "display_data"
    },
    {
     "data": {
      "text/html": [
       "\n",
       "    <style>\n",
       "        body, .container {\n",
       "            background: #1e1e1e;  /* Dark background like VS Code */\n",
       "            color: #ccc;     /* Light grey text */\n",
       "        }\n",
       "        think {\n",
       "            display: block;\n",
       "            background: #333;\n",
       "            border-left: 4px solid #007acc;\n",
       "            margin: 10px 0;\n",
       "            padding: 10px;\n",
       "            color: #fff;\n",
       "            white-space: pre-wrap;\n",
       "        }\n",
       "        tool_call {\n",
       "            display: block;\n",
       "            background: #131;\n",
       "            border-left: 4px solid #007acc;\n",
       "            margin: 10px 0;\n",
       "            padding: 10px;\n",
       "            color: #fbf;\n",
       "            white-space: pre-wrap;\n",
       "        }\n",
       "    </style>\n",
       "    <body><div class=\"container\"><think>\n",
       "Okay, let me try to figure out how to approach this. The user mentioned there's a PDF in the downloads folder, and they want the links extracted from it. \n",
       "\n",
       "First, I need to check if the PDF is actually there. The previous attempt to list the directory returned an empty array, which might mean either the directory is empty or the path was incorrect. Maybe the path should be \"Downloads\" with a capital D, depending on the system's case sensitivity. Or perhaps there's a typo in the folder name.\n",
       "\n",
       "Since listing the directory didn't show any files, I should inform the user about this discrepancy. They might have the wrong path or the filename. The next step is to ask them to verify the correct name and location of the PDF. Without the right path, the pdf_read function can't access the file. So I'll need to prompt them for more details before proceeding further. That way, once I have the correct information, I can then use pdf_read to extract the content and parse the links from there.\n",
       "</think>\n",
       "\n",
       "<error>\n",
       "The directory 'downloads' does not contain any files or the path is incorrect. Please verify the exact name and location of your PDF file.\n",
       "</error></div></body>"
      ],
      "text/plain": [
       "<IPython.core.display.HTML object>"
      ]
     },
     "metadata": {},
     "output_type": "display_data"
    }
   ],
   "source": [
    "inner_chat.display_thoughts()"
   ]
  }
 ],
 "metadata": {
  "kernelspec": {
   "display_name": "venv",
   "language": "python",
   "name": "python3"
  },
  "language_info": {
   "codemirror_mode": {
    "name": "ipython",
    "version": 3
   },
   "file_extension": ".py",
   "mimetype": "text/x-python",
   "name": "python",
   "nbconvert_exporter": "python",
   "pygments_lexer": "ipython3",
   "version": "3.10.12"
  }
 },
 "nbformat": 4,
 "nbformat_minor": 2
}
