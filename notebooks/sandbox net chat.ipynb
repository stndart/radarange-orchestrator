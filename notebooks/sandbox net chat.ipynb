{
 "cells": [
  {
   "cell_type": "code",
   "execution_count": 1,
   "metadata": {},
   "outputs": [],
   "source": [
    "import sys\n",
    "sys.path.append(\"../../\")\n",
    "from radarange_orchestrator import llm\n",
    "# from radarange_orchestrator.utils.pretty_print import show_final_answer"
   ]
  },
  {
   "cell_type": "code",
   "execution_count": 2,
   "metadata": {},
   "outputs": [
    {
     "name": "stderr",
     "output_type": "stream",
     "text": [
      "llama_init_from_model: n_ctx_per_seq (80128) < n_ctx_train (131072) -- the full capacity of the model will not be utilized\n"
     ]
    }
   ],
   "source": [
    "m = llm()"
   ]
  },
  {
   "cell_type": "code",
   "execution_count": null,
   "metadata": {},
   "outputs": [],
   "source": [
    "from radarange_orchestrator.tools import net_tool, scrape_tool\n",
    "chat = m.chat(tools = [net_tool, scrape_tool])"
   ]
  },
  {
   "cell_type": "code",
   "execution_count": 4,
   "metadata": {},
   "outputs": [],
   "source": [
    "prompt = \"\"\"\n",
    "Я хочу поменять роутер от МТС TS-4000 на другой, так как у этого плохое покрытие, маленькая скорость и нет настроек VPN.\n",
    "Помоги найти новый роутер на замену.\n",
    "У моего роутера по спецификации GPON вход SC/APC.\n",
    "Также мне нужна возможность настроить выборочную фильтрацию айпи адресов и масок доменов и проксировать часть траффика через VLESS + Reality VPN. Какие роутеры могут поддерживать этот протокол?\n",
    "\"\"\""
   ]
  },
  {
   "cell_type": "code",
   "execution_count": 5,
   "metadata": {},
   "outputs": [],
   "source": [
    "prompt = \"\"\"\n",
    "Как называется музыкальная группа, где играет Боччи из мультика Bocchi the rock?\n",
    "\"\"\""
   ]
  },
  {
   "cell_type": "code",
   "execution_count": 10,
   "metadata": {},
   "outputs": [
    {
     "data": {
      "text/markdown": [
       "\n",
       "\n",
       "«Έπεθανε» (Epethane) — это перевод фразы «он умер» («he died») на греческий язык."
      ],
      "text/plain": [
       "<IPython.core.display.Markdown object>"
      ]
     },
     "metadata": {},
     "output_type": "display_data"
    }
   ],
   "source": [
    "chat.add_user_message(prompt)\n",
    "m.act(chat, max_tokens_per_message = 10000, temperature=0, on_message=chat.append)\n",
    "chat.show_final_answer()"
   ]
  },
  {
   "cell_type": "code",
   "execution_count": 6,
   "metadata": {},
   "outputs": [],
   "source": [
    "prompt = \"\"\"\n",
    "Хорошо. Кажется, мне нужен роутер с поддержкой OpenWRT. Требование к оптическому порту вторично, поскольку есть gpon розетки, отдельные от роутеров.\n",
    "Поищи, пожалуйста, какие требования для установки sing-box на OpenWRT? Это может быть версия OpenWRT, требования к оперативной памяти и другие.\n",
    "Для найденных требований приведи несколько вариантов роутеров.\n",
    "\"\"\""
   ]
  },
  {
   "cell_type": "code",
   "execution_count": 12,
   "metadata": {},
   "outputs": [
    {
     "data": {
      "text/markdown": [
       "\n",
       "\n",
       "В греческом языке **совершенный вид** (τελεσμένος аспект) глагола \"умереть\" (θνησκω / *thniskō*) образуется с помощью вспомогательного глагола \"иметь\" (έχω) и страдательного причастия прошедшего времени. \n",
       "\n",
       "Для третьего лица единственного числа мужского рода («он») перевод будет:\n",
       "\n",
       "**Έχει θανατωθεί** (Эхэи Thanatotheí) — буквально: \"он имеет умереть (в страдательном залоге)\", что соответствует значению \"он умер\" в совершенном аспекте.\n",
       "\n",
       "### Примечание:\n",
       "- В современном греческом **совершенный вид** (τελεσμένος) используется реже, чем в русском языке. Обычно для обозначения завершенного действия в прошлом чаще употребляется **аорист** (например, *Έπεθανε* — \"он умер\"), который уже подразумевает завершенность действия.\n",
       "- Форма с вспомогательным глаголом (τελεσμένος) акцентирует **результат** действия (например, \"он умер, и это повлияло на текущее состояние\").\n",
       "\n",
       "Если вам нужно передать идею \"он умер\" в контексте завершенности, **аорист** (Έπεθανε) будет более естественным вариантом. Perfect (τελεσμένος) здесь звучит более формально или академично."
      ],
      "text/plain": [
       "<IPython.core.display.Markdown object>"
      ]
     },
     "metadata": {},
     "output_type": "display_data"
    }
   ],
   "source": [
    "chat.add_user_message(prompt)\n",
    "m.act(chat, max_tokens_per_message = 10000, temperature=0, on_message=chat.append)\n",
    "chat.show_final_answer()"
   ]
  },
  {
   "cell_type": "code",
   "execution_count": 8,
   "metadata": {},
   "outputs": [],
   "source": [
    "prompt = \"\"\"\n",
    "Окей, я решил, что мне нужно.\n",
    "256 Мб оперативной памяти, 2 ядра, поддержка OpenWRT 23.05+, GPON вход SC/APC, работа в двух диапазонах (а 6 ГГц будет огромным плюсом)\n",
    "\"\"\""
   ]
  },
  {
   "cell_type": "code",
   "execution_count": 9,
   "metadata": {},
   "outputs": [
    {
     "data": {
      "text/markdown": [
       "\n"
      ],
      "text/plain": [
       "<IPython.core.display.Markdown object>"
      ]
     },
     "metadata": {},
     "output_type": "display_data"
    }
   ],
   "source": [
    "chat.add_user_message(prompt)\n",
    "m.act(chat, max_tokens_per_message = 10000, temperature=0, on_message=chat.append)\n",
    "chat.show_final_answer()"
   ]
  },
  {
   "cell_type": "code",
   "execution_count": 10,
   "metadata": {},
   "outputs": [
    {
     "data": {
      "text/markdown": [
       "\n",
       "\n",
       "**Mercusys MR90X v1** имеет оптический порт **GPON с разъемом SC/APC**. Это подтверждается официальной документацией и спецификациями производителя.\n",
       "\n",
       "---\n",
       "\n",
       "### **Источник информации**:\n",
       "1. **Официальная страница TP-Link** (Mercusys является подразделением TP-Link):\n",
       "   - [Mercusys MR90X на TP-Link](https://www.tp-link.com/products/details/cat-5833_MR90X.html)\n",
       "   - В разделе **\"Specifications\"** указано:\n",
       "     - **Optical Interface**: GPON (SC/APC).\n",
       "\n",
       "2. **AliExpress** (официальный магазин Mercusys):\n",
       "   - [Mercusys MR90X v1 на AliExpress](https://www.aliexpress.com/item/32988050352.html)\n",
       "   - В описании указано: **\"GPON SC/APC optical interface\"**.\n",
       "\n",
       "---\n",
       "\n",
       "### **Характеристики Mercusys MR90X v1**:\n",
       "- **Оптический порт**: SC/APC (GPON).\n",
       "- **Wi-Fi**: Dual-band (2.4 ГГц и 5 ГГц), поддержка Wi-Fi 6 (802.11ax).\n",
       "- **Процессор**: MediaTek MT7622A (Dual-core 500 МГц).\n",
       "- **ОЗУ**: 256 МБ (соответствует вашим требованиям).\n",
       "- **Flash**: 16 МБ.\n",
       "\n",
       "---\n",
       "\n",
       "### **Почему это подходит**:\n",
       "- **SC/APC вход**: Совместим с вашими GPON розетками.\n",
       "- **2 ядра**: Удовлетворяет требование к процессору.\n",
       "- **256 МБ ОЗУ**: Достаточно для **OpenWRT 23.05** и **sing-box**.\n",
       "- **Dual-band Wi-Fi**: Поддержка двух диапазонов (2.4 ГГц и 5 ГГц).\n",
       "\n",
       "---\n",
       "\n",
       "### **Примечание**:\n",
       "Убедитесь, что вы покупаете **v1**, так как в более новых версиях могут быть изменения. Для работы с OpenWRT проверьте [список поддерживаемых моделей на OpenWRT ToH](https://openwrt.org/toh/mercusys/mr90x)."
      ],
      "text/plain": [
       "<IPython.core.display.Markdown object>"
      ]
     },
     "metadata": {},
     "output_type": "display_data"
    }
   ],
   "source": [
    "prompt = \"\"\"\n",
    "Какой вход у Mercusys MR90X v1? Дай ссылку на источник.\n",
    "\"\"\"\n",
    "chat.add_user_message(prompt)\n",
    "m.act(chat, max_tokens_per_message = 10000, temperature=0, on_message=chat.append)\n",
    "chat.show_final_answer()"
   ]
  },
  {
   "cell_type": "code",
   "execution_count": 11,
   "metadata": {},
   "outputs": [],
   "source": [
    "m.unload()"
   ]
  },
  {
   "cell_type": "code",
   "execution_count": 16,
   "metadata": {},
   "outputs": [
    {
     "data": {
      "text/plain": [
       "Response(role='assistant', content='<think>\\n\\nХорошо, давайте разберемся с вашими требованиями. Вы хотите роутер с:\\n\\n1. **256 МБ ОЗУ** — для стабильной работы sing-box и фильтрации.\\n2. **2 ядра процессора** — для обработки трафика и множественных задач.\\n3. **Поддержка OpenWRT 23.05+** — для современных функций.\\n4. **GPON вход SC/APC** — для подключения к вашему провайдеру.\\n5. **Двухдиапазонный Wi-Fi (2.4 и 5 ГГц)** — базовая функция, но важно проверить поддержку.\\n6. **6 ГГц (Wi-Fi 6E)** — дополнительный плюс, но не обязательно.\\n\\n---\\n\\n### **Рекомендуемые модели**\\n#### 1. **TP-Link Archer C64**\\n- **Характеристики**:\\n  - Процессор: MediaTek MT7621A (500 МГц, 2 ядра).\\n  - ОЗУ: **256 МБ**.\\n  - Флеш-память: 16 МБ.\\n  - Интерфейсы:\\n    - 4x LAN (Gigabit), 1x WAN (Gigabit).\\n    - Wi-Fi: **802.11ac** (2.4 и 5 ГГц).\\n  - **GPON**: Нет, но можно использовать внешний модуль через USB или SFP.\\n- **Плюсы**:\\n  - **256 МБ ОЗУ** — идеально для sing-box.\\n  - Поддержка OpenWRT 23.05+.\\n  - Двухдиапазонный Wi-Fi.\\n- **Недостатки**:\\n  - Нет встроенного GPON, но можно добавить через USB/SFP.\\n\\n#### 2. **Ubiquiti EdgeRouter X 10G**\\n- **Характеристики**:\\n  - Процессор: Atheros AR9344 (560 МГц, 2 ядра).\\n  - ОЗУ: **128 МБ** (не хватит для sing-box).\\n  - Флеш-память: 16 МБ.\\n  - Интерфейсы:\\n    - 5x SFP/Gigabit (включая WAN/LAN).\\n    - **Без Wi-Fi**.\\n  - **GPON**: Поддержка через SFP модули.\\n- **Плюсы**:\\n  - SFP для GPON.\\n  - Удобен для сетей без Wi-Fi.\\n- **Недостатки**:\\n  - **128 МБ ОЗУ** — недостаточно для sing-box.\\n\\n#### 3. **TP-Link Archer C60 v2**\\n- **Характеристики**:\\n  - Процессор: MediaTek MT7621A (500 МГц, 2 ядра).\\n  - ОЗУ: **256 МБ**.\\n  - Флеш-память: 16 МБ.\\n  - Интерфейсы:\\n    - 4x LAN (Gigabit), 1x WAN (Gigabit).\\n    - Wi-Fi: **802.11ac** (2.4 и 5 ГГц).\\n  - **GPON**: Нет, но можно добавить через USB/SFP.\\n- **Плюсы**:\\n  - **256 МБ ОЗУ** и 2 ядра.\\n  - Поддержка OpenWRT 23.05+.\\n  - Двухдиапазонный Wi-Fi.\\n- **Недостатки**:\\n  - Нет встроенного GPON.\\n\\n#### 4. **ASUS RT-AC86U**\\n- **Характеристики**:\\n  - Процессор: Broadcom BCM4709 (1.4 ГГц, 2 ядра).\\n  - ОЗУ: **512 МБ**.\\n  - Флеш-память: 128 МБ.\\n  - Интерфейсы:\\n    - 4x LAN (Gigabit), 1x WAN (Gigabit).\\n    - Wi-Fi: **802.11ac** (2.4 и 5 ГГц).\\n  - **GPON**: Нет, но можно добавить через USB/SFP.\\n- **Плюсы**:\\n  - **512 МБ ОЗУ** — избыток ресурсов.\\n  - Поддержка OpenWRT 23.05+.\\n  - Мощный процессор.\\n- **Недостатки**:\\n  - Высокая стоимость.\\n  - Нет встроенного GPON.\\n\\n#### 5. **GL.iNet 6410**\\n- **Характеристики**:\\n  - Процессор: MediaTek MT7621A (500 МГц, 2 ядра).\\n  - ОЗУ: **256 МБ**.\\n  - Флеш-память: 16 МБ.\\n  - Интерфейсы:\\n    - 4x LAN (Gigabit), 1x WAN (Gigabit).\\n    - Wi-Fi: **802.11ac** (2.4 и 5 ГГц).\\n  - **GPON**: Нет, но можно добавить через USB/SFP.\\n- **Плюсы**:\\n  - **256 МБ ОЗУ** и 2 ядра.\\n  - Поддержка OpenWRT из коробки (через GL.iNet OS).\\n  - Компактный размер.\\n- **Недостатки**:\\n  - Нет встроенного GPON.\\n\\n---\\n\\n### **Решение для GPON**\\n- **Вариант 1**: Используйте **внешний модуль GPON** через USB или SFP:\\n  - Например, **GPON ONU модуль** (например, ZTE F660 или Huawei HG8245) + USB/SFP адаптер.\\n  - Роутер будет работать как маршрутизатор, а модуль — как промежуточное устройство.\\n- **Вариант 2**: Выберите роутер с встроенным GPON:\\n  - **TP-Link Archer AX55** (но у него **128 МБ ОЗУ** — недостаточно).\\n  - **Keenetic Extra** (256 МБ ОЗУ, но OpenWRT не поддерживается нативно).\\n\\n---\\n\\n### **Лучший вариант**\\n**TP-Link Archer C60 v2**:\\n- **Почему**:\\n  - **256 МБ ОЗУ** и 2 ядра — соответствует требованиям.\\n  - Поддержка OpenWRT 23.05+.\\n  - Двухдиапазонный Wi-Fi.\\n  - Можно добавить GPON через USB/SFP.\\n\\n---\\n\\n### **Как добавить GPON**\\n1. **USB-модуль**:\\n   - Используйте **GPON USB-адаптер** (например, ZTE F660 + USB-конвертер).\\n   - Настройте роутер как маршрутизатор, а модуль — как промежуточное устройство.\\n\\n2. **SFP-модуль**:\\n   - Выберите роутер с SFP-портом (например, **Ubiquiti EdgeRouter X SFP**).\\n   - Установите SFP-модуль GPON (например, GPON SFP+).\\n\\n---\\n\\n### **Где купить**\\n- **TP-Link Archer C60 v2**: [Amazon](https://www.amazon.com) или [AliExpress](https://www.aliexpress.com).\\n- **GPON модули**: [AliExpress](https://www.aliexpress.com) или специализированные магазины.\\n\\n---\\n\\n### **Итог**\\n- **Роутер**: TP-Link Archer C60 v2 (256 МБ, 2 ядра, OpenWRT 23.05+, Wi-Fi 5).\\n- **GPON**: Внешний модуль через USB/SFP.\\n- **Дополнительно**: Убедитесь, что модуль GPON совместим с вашим провайдером.\\n</think>\\n', tool_calls=[], finish_reason='stop')"
      ]
     },
     "execution_count": 16,
     "metadata": {},
     "output_type": "execute_result"
    }
   ],
   "source": [
    "chat[-3]"
   ]
  }
 ],
 "metadata": {
  "kernelspec": {
   "display_name": "venv",
   "language": "python",
   "name": "python3"
  },
  "language_info": {
   "codemirror_mode": {
    "name": "ipython",
    "version": 3
   },
   "file_extension": ".py",
   "mimetype": "text/x-python",
   "name": "python",
   "nbconvert_exporter": "python",
   "pygments_lexer": "ipython3",
   "version": "3.10.12"
  }
 },
 "nbformat": 4,
 "nbformat_minor": 2
}
