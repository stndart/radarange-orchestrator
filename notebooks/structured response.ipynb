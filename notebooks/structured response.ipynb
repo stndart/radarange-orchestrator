{
 "cells": [
  {
   "cell_type": "code",
   "execution_count": 1,
   "metadata": {},
   "outputs": [],
   "source": [
    "import sys\n",
    "\n",
    "sys.path.append('../../')\n",
    "from radarange_orchestrator import llm"
   ]
  },
  {
   "cell_type": "code",
   "execution_count": 2,
   "metadata": {},
   "outputs": [],
   "source": [
    "from pydantic import BaseModel, RootModel\n",
    "\n",
    "\n",
    "class Article(BaseModel):\n",
    "    \"\"\"Reference information, including authors, title, journal and date\"\"\"\n",
    "\n",
    "    authors: str\n",
    "    title: str\n",
    "    journal: str\n",
    "    issue_number_page: str | None = None\n",
    "    year: int | None = None\n",
    "\n",
    "\n",
    "class ArticleList(RootModel[list[Article]]):\n",
    "    \"\"\"References list of a science article\"\"\"\n",
    "\n",
    "    root: list[Article]"
   ]
  },
  {
   "cell_type": "code",
   "execution_count": 3,
   "metadata": {},
   "outputs": [],
   "source": [
    "schema = {\n",
    "    'type': 'array',\n",
    "    'items': {\n",
    "        'type': 'object',\n",
    "        'properties': {\n",
    "            'authors': {'type': 'string'},\n",
    "            'title': {'type': 'string'},\n",
    "            'journal': {'type': 'string'},\n",
    "            'issue_number_page': {'type': 'integer'},\n",
    "            'year': {'type': 'integer'},\n",
    "        },\n",
    "        'required': ['authors', 'title', 'journal'],\n",
    "    },\n",
    "}"
   ]
  },
  {
   "cell_type": "code",
   "execution_count": 4,
   "metadata": {},
   "outputs": [],
   "source": [
    "with open('downloads/links.txt', 'r') as fin:\n",
    "    text = fin.read()\n",
    "\n",
    "prompt = f\"\"\"\n",
    "Fill the references info from this article:\n",
    "{text}\n",
    "\"\"\"\n",
    "\n",
    "prompt = \"\"\"Fill the references info from this article:\n",
    "[1] J.  M.  Taylor,  P.  Cappellaro,  L.  Childress,  L. \n",
    "Jiang, D. Budker, P. R. Hemmer, A. Yacoby, \n",
    "R. Walsworth, and M. D. Lukin, High-\n",
    "sensitivity diamond magnetometer with \n",
    "nanoscale resolution, Nat Phys 4, 810 (2008). [2] J. R. Maze et al., Nanoscale magnetic sensing \n",
    "with an individual electronic spin in diamond, \n",
    "Nature 455, 644 (2008). \n",
    "[6] A.  Hochstetter  and  E.  Neu,  Multi-color  laser \n",
    "excitation of diamond nitrogen vacancy \n",
    "centers embedded in nanophotonic structures, \n",
    "AIP Adv 11, 65006 (2021). \n",
    "\"\"\""
   ]
  },
  {
   "cell_type": "markdown",
   "metadata": {},
   "source": [
    "# LMStudio backend"
   ]
  },
  {
   "cell_type": "code",
   "execution_count": 5,
   "metadata": {},
   "outputs": [
    {
     "name": "stdout",
     "output_type": "stream",
     "text": [
      "Connecting to host: 95.165.10.219:1234\n"
     ]
    }
   ],
   "source": [
    "from radarange_orchestrator.llm_backend import LLM_Config\n",
    "from radarange_orchestrator.tools import time_tool\n",
    "\n",
    "m = llm(model='qwq-32b@q4_k_m', config=LLM_Config(ctx_size=18000, gpus=[1]))\n",
    "# m = llm(model='qwen3-32b', config=LLM_Config(ctx_size=10000))\n",
    "chat = m.chat(tools=[time_tool])"
   ]
  },
  {
   "cell_type": "markdown",
   "metadata": {},
   "source": [
    "### Auto schema"
   ]
  },
  {
   "cell_type": "code",
   "execution_count": 6,
   "metadata": {},
   "outputs": [
    {
     "name": "stdout",
     "output_type": "stream",
     "text": [
      "{\n",
      "  \"description\": \"References list of a science article\",\n",
      "  \"items\": {\n",
      "    \"description\": \"Reference information, including authors, title, journal and date\",\n",
      "    \"properties\": {\n",
      "      \"authors\": {\n",
      "        \"title\": \"Authors\",\n",
      "        \"type\": \"string\"\n",
      "      },\n",
      "      \"title\": {\n",
      "        \"title\": \"Title\",\n",
      "        \"type\": \"string\"\n",
      "      },\n",
      "      \"journal\": {\n",
      "        \"title\": \"Journal\",\n",
      "        \"type\": \"string\"\n",
      "      },\n",
      "      \"issue_number_page\": {\n",
      "        \"anyOf\": [\n",
      "          {\n",
      "            \"type\": \"string\"\n",
      "          },\n",
      "          {\n",
      "            \"type\": \"null\"\n",
      "          }\n",
      "        ],\n",
      "        \"default\": null,\n",
      "        \"title\": \"Issue Number Page\"\n",
      "      },\n",
      "      \"year\": {\n",
      "        \"anyOf\": [\n",
      "          {\n",
      "            \"type\": \"integer\"\n",
      "          },\n",
      "          {\n",
      "            \"type\": \"null\"\n",
      "          }\n",
      "        ],\n",
      "        \"default\": null,\n",
      "        \"title\": \"Year\"\n",
      "      }\n",
      "    },\n",
      "    \"required\": [\n",
      "      \"authors\",\n",
      "      \"title\",\n",
      "      \"journal\"\n",
      "    ],\n",
      "    \"title\": \"Article\",\n",
      "    \"type\": \"object\"\n",
      "  },\n",
      "  \"title\": \"ArticleList\",\n",
      "  \"type\": \"array\"\n",
      "}\n"
     ]
    }
   ],
   "source": [
    "from radarange_orchestrator.formatting import ResponseFormat\n",
    "\n",
    "auto_format = ResponseFormat(json_schema=ArticleList)\n",
    "print(auto_format)"
   ]
  },
  {
   "cell_type": "code",
   "execution_count": 7,
   "metadata": {},
   "outputs": [
    {
     "name": "stdout",
     "output_type": "stream",
     "text": [
      "Prompt is 207 tokens\n"
     ]
    }
   ],
   "source": [
    "print(f'Prompt is {m.count_tokens(prompt)} tokens')\n",
    "response = m.respond(prompt, response_format=auto_format)"
   ]
  },
  {
   "cell_type": "code",
   "execution_count": 8,
   "metadata": {},
   "outputs": [
    {
     "name": "stdout",
     "output_type": "stream",
     "text": [
      "3\n",
      "[\n",
      "  {\n",
      "    \"authors\": \"J. M. Taylor, P. Cappellaro, L. Childress, L. Jiang, D. Budker, P. R. Hemmer, A. Yacoby, R. Walsworth, and M. D. Lukin\",\n",
      "    \"journal\": \"Nat Phys\",\n",
      "    \"title\": \"High-sensitivity diamond magnetometer with nanoscale resolution\",\n",
      "    \"year\": 2008\n",
      "  },\n",
      "  {\n",
      "    \"authors\": \"J. R. Maze et al.\",\n",
      "    \"journal\": \"Nature\",\n",
      "    \"title\": \"Nanoscale magnetic sensing with an individual electronic spin in diamond\",\n",
      "    \"year\": 2008\n",
      "  },\n",
      "  {\n",
      "    \"authors\": \"A. Hochstetter and E. Neu\",\n",
      "    \"journal\": \"AIP Adv\",\n",
      "    \"title\": \"Multi-color laser excitation of diamond nitrogen vacancy centers embedded in nanophotonic structures\",\n",
      "    \"year\": 2021\n",
      "  }\n",
      "]\n"
     ]
    }
   ],
   "source": [
    "import json\n",
    "\n",
    "articlesj = json.loads(response.content)\n",
    "print(len(articlesj))\n",
    "print(json.dumps(articlesj, indent=2))"
   ]
  },
  {
   "cell_type": "markdown",
   "metadata": {},
   "source": [
    "### Manual schema"
   ]
  },
  {
   "cell_type": "code",
   "execution_count": 9,
   "metadata": {},
   "outputs": [
    {
     "name": "stdout",
     "output_type": "stream",
     "text": [
      "{\n",
      "  \"type\": \"array\",\n",
      "  \"items\": {\n",
      "    \"type\": \"object\",\n",
      "    \"properties\": {\n",
      "      \"authors\": {\n",
      "        \"type\": \"string\"\n",
      "      },\n",
      "      \"title\": {\n",
      "        \"type\": \"string\"\n",
      "      },\n",
      "      \"journal\": {\n",
      "        \"type\": \"string\"\n",
      "      },\n",
      "      \"issue_number_page\": {\n",
      "        \"type\": \"integer\"\n",
      "      },\n",
      "      \"year\": {\n",
      "        \"type\": \"integer\"\n",
      "      }\n",
      "    },\n",
      "    \"required\": [\n",
      "      \"authors\",\n",
      "      \"title\",\n",
      "      \"journal\"\n",
      "    ]\n",
      "  }\n",
      "}\n"
     ]
    }
   ],
   "source": [
    "manual_format = ResponseFormat(json_schema=schema)\n",
    "print(manual_format)"
   ]
  },
  {
   "cell_type": "code",
   "execution_count": 10,
   "metadata": {},
   "outputs": [
    {
     "name": "stdout",
     "output_type": "stream",
     "text": [
      "Prompt is 207 tokens\n"
     ]
    }
   ],
   "source": [
    "print(f'Prompt is {m.count_tokens(prompt)} tokens')\n",
    "response = m.respond(prompt, response_format=manual_format)"
   ]
  },
  {
   "cell_type": "code",
   "execution_count": 11,
   "metadata": {},
   "outputs": [
    {
     "name": "stdout",
     "output_type": "stream",
     "text": [
      "3\n",
      "[\n",
      "  {\n",
      "    \"authors\": \"J. M. Taylor, P. Cappellaro, L. Childress, L. Jiang, D. Budker, P. R. Hemmer, A. Yacoby, R. Walsworth, and M. D. Lukin\",\n",
      "    \"journal\": \"Nat Phys\",\n",
      "    \"title\": \"High-sensitivity diamond magnetometer with nanoscale resolution\",\n",
      "    \"year\": 2008\n",
      "  },\n",
      "  {\n",
      "    \"authors\": \"J. R. Maze et al.\",\n",
      "    \"journal\": \"Nature\",\n",
      "    \"title\": \"Nanoscale magnetic sensing with an individual electronic spin in diamond\",\n",
      "    \"year\": 2008\n",
      "  },\n",
      "  {\n",
      "    \"authors\": \"A. Hochstetter and E. Neu\",\n",
      "    \"journal\": \"AIP Adv\",\n",
      "    \"title\": \"Multi-color laser excitation of diamond nitrogen vacancy centers embedded in nanophotonic structures\",\n",
      "    \"year\": 2021\n",
      "  }\n",
      "]\n"
     ]
    }
   ],
   "source": [
    "articlesj = json.loads(response.content)\n",
    "print(len(articlesj))\n",
    "print(json.dumps(articlesj, indent=2))"
   ]
  },
  {
   "cell_type": "code",
   "execution_count": 12,
   "metadata": {},
   "outputs": [],
   "source": [
    "m.close()"
   ]
  },
  {
   "cell_type": "markdown",
   "metadata": {},
   "source": [
    "# Llama_cpp backend"
   ]
  },
  {
   "cell_type": "code",
   "execution_count": 13,
   "metadata": {},
   "outputs": [
    {
     "name": "stderr",
     "output_type": "stream",
     "text": [
      "llama_context: n_ctx_per_seq (18000) < n_ctx_train (131072) -- the full capacity of the model will not be utilized\n"
     ]
    }
   ],
   "source": [
    "from radarange_orchestrator.llm_backend import LLM_Config\n",
    "from radarange_orchestrator.tools import time_tool\n",
    "\n",
    "m = llm(model='QwQ-32B-Q4_K_M.gguf', backend='llama_cpp', config=LLM_Config(ctx_size=18000, gpus=[1]))\n",
    "# m = llm(model='qwen3-32b', config=LLM_Config(ctx_size=10000))\n",
    "chat = m.chat(tools=[time_tool])"
   ]
  },
  {
   "cell_type": "markdown",
   "metadata": {},
   "source": [
    "### Auto format"
   ]
  },
  {
   "cell_type": "code",
   "execution_count": 14,
   "metadata": {},
   "outputs": [
    {
     "name": "stdout",
     "output_type": "stream",
     "text": [
      "Prompt is 207 tokens\n"
     ]
    }
   ],
   "source": [
    "print(f'Prompt is {m.count_tokens(prompt)} tokens')\n",
    "response = m.respond(prompt, response_format=auto_format)"
   ]
  },
  {
   "cell_type": "code",
   "execution_count": 15,
   "metadata": {},
   "outputs": [
    {
     "name": "stdout",
     "output_type": "stream",
     "text": [
      "3\n",
      "[\n",
      "  {\n",
      "    \"authors\": \"J. M. Taylor, P. Cappellaro, L. Childress, L. Jiang, D. Budker, P. R. Hemmer, A. Yacoby, R. Walsworth, and M. D. Lukin\",\n",
      "    \"title\": \"High-sensitivity diamond magnetometer with nanoscale resolution\",\n",
      "    \"journal\": \"Nat Phys\",\n",
      "    \"issue_number_page\": \"4, 810\",\n",
      "    \"year\": 2008\n",
      "  },\n",
      "  {\n",
      "    \"authors\": \"J. R. Maze et al.\",\n",
      "    \"title\": \"Nanoscale magnetic sensing with an individual electronic spin in diamond\",\n",
      "    \"journal\": \"Nature\",\n",
      "    \"issue_number_page\": \"455, 644\",\n",
      "    \"year\": 2008\n",
      "  },\n",
      "  {\n",
      "    \"authors\": \"A. Hochstetter and E. Neu\",\n",
      "    \"title\": \"Multi-color laser excitation of diamond nitrogen vacancy centers embedded in nanophotonic structures\",\n",
      "    \"journal\": \"AIP Adv\",\n",
      "    \"issue_number_page\": \"11, 65006\",\n",
      "    \"year\": 2021\n",
      "  }\n",
      "]\n"
     ]
    }
   ],
   "source": [
    "articlesj = json.loads(response.content)\n",
    "print(len(articlesj))\n",
    "print(json.dumps(articlesj, indent=2))"
   ]
  },
  {
   "cell_type": "markdown",
   "metadata": {},
   "source": [
    "### Manual format"
   ]
  },
  {
   "cell_type": "code",
   "execution_count": 16,
   "metadata": {},
   "outputs": [
    {
     "name": "stdout",
     "output_type": "stream",
     "text": [
      "Prompt is 207 tokens\n"
     ]
    }
   ],
   "source": [
    "print(f'Prompt is {m.count_tokens(prompt)} tokens')\n",
    "response = m.respond(prompt, response_format=manual_format)"
   ]
  },
  {
   "cell_type": "code",
   "execution_count": 17,
   "metadata": {},
   "outputs": [
    {
     "name": "stdout",
     "output_type": "stream",
     "text": [
      "3\n",
      "[\n",
      "  {\n",
      "    \"authors\": \"J. M. Taylor, P. Cappellaro, L. Childress, L. Jiang, D. Budker, P. R. Hemmer, A. Yacoby, R. Walsworth, and M. D. Lukin\",\n",
      "    \"title\": \"High-sensitivity diamond magnetometer with nanoscale resolution\",\n",
      "    \"journal\": \"Nat Phys\",\n",
      "    \"issue_number_page\": 810,\n",
      "    \"year\": 2008\n",
      "  },\n",
      "  {\n",
      "    \"authors\": \"J. R. Maze et al.\",\n",
      "    \"title\": \"Nanoscale magnetic sensing with an individual electronic spin in diamond\",\n",
      "    \"journal\": \"Nature\",\n",
      "    \"issue_number_page\": 644,\n",
      "    \"year\": 2008\n",
      "  },\n",
      "  {\n",
      "    \"authors\": \"A. Hochstetter and E. Neu\",\n",
      "    \"title\": \"Multi-color laser excitation of diamond nitrogen vacancy centers embedded in nanophotonic structures\",\n",
      "    \"journal\": \"AIP Adv\",\n",
      "    \"issue_number_page\": 65006,\n",
      "    \"year\": 2021\n",
      "  }\n",
      "]\n"
     ]
    }
   ],
   "source": [
    "articlesj = json.loads(response.content)\n",
    "print(len(articlesj))\n",
    "print(json.dumps(articlesj, indent=2))"
   ]
  },
  {
   "cell_type": "markdown",
   "metadata": {},
   "source": [
    "### llama_cpp killer feature: reasoning json"
   ]
  },
  {
   "cell_type": "code",
   "execution_count": 18,
   "metadata": {},
   "outputs": [],
   "source": [
    "reasoning_format = ResponseFormat(json_schema=ArticleList, keep_reasoning=True)"
   ]
  },
  {
   "cell_type": "code",
   "execution_count": 19,
   "metadata": {},
   "outputs": [
    {
     "name": "stdout",
     "output_type": "stream",
     "text": [
      "Prompt is 207 tokens\n"
     ]
    }
   ],
   "source": [
    "print(f'Prompt is {m.count_tokens(prompt)} tokens')\n",
    "response = m.respond(prompt, response_format=reasoning_format)"
   ]
  },
  {
   "cell_type": "code",
   "execution_count": 20,
   "metadata": {},
   "outputs": [
    {
     "data": {
      "text/html": [
       "\n",
       "    <style>\n",
       "        body, .container {\n",
       "            background: #1e1e1e;  /* Dark background like VS Code */\n",
       "            color: #ccc;     /* Light grey text */\n",
       "        }\n",
       "        think {\n",
       "            display: block;\n",
       "            background: #333;\n",
       "            border-left: 4px solid #007acc;\n",
       "            margin: 10px 0;\n",
       "            padding: 10px;\n",
       "            color: #fff;\n",
       "            white-space: pre-wrap;\n",
       "        }\n",
       "        tool_call {\n",
       "            display: block;\n",
       "            background: #131;\n",
       "            border-left: 4px solid #007acc;\n",
       "            margin: 10px 0;\n",
       "            padding: 10px;\n",
       "            color: #fbf;\n",
       "            white-space: pre-wrap;\n",
       "        }\n",
       "    </style>\n",
       "    <body><div class=\"container\"><think>\n",
       "Okay, let me tackle this problem. The user wants me to fill in the references from the given article entries. The entries are numbered 1, 2, and 6. I need to extract the authors, title, journal, issue number/page, and year for each.\n",
       "\n",
       "Starting with reference [1]: The authors are listed as J. M. Taylor, P. Cappellaro, L. Childress, L. Jiang, D. Budker, P. R. Hemmer, A. Yacoby, R. Walsworth, and M. D. Lukin. The title is \"High-sensitivity diamond magnetometer with nanoscale resolution\". The journal is Nat Phys (which I know stands for Nature Physics). The citation mentions \"4, 810 (2008)\". Here, \"4\" could be the volume or issue number, but since the standard format is volume(issue), page, but sometimes volume is given first. Since the user's schema requires \"issue_number_page\", I need to check if \"4\" is the volume. Wait, the user's example might just have the issue and page in a string. The entry shows \"Nat Phys 4, 810 (2008)\", so probably the journal name is \"Nature Physics\" abbreviated as Nat. Phys., but I'll keep it as written. The issue_number_page would be \"4, 810\" and the year is 2008.\n",
       "\n",
       "Next, reference [2]: Authors are J. R. Maze et al. The title is \"Nanoscale magnetic sensing with an individual electronic spin in diamond\". Journal is Nature. The citation is \"455, 644 (2008)\". Here, \"455\" is likely the volume number, and \"644\" the page number. So the issue_number_page is \"455, 644\", year 2008.\n",
       "\n",
       "Then reference [6]: Authors are A. Hochstetter and E. Neu. Title: \"Multi-color laser excitation of diamond nitrogen vacancy centers embedded in nanophotonic structures\". Journal is AIP Adv (AIP Advances). The citation is \"11, 65006 (2021)\". The \"11\" is the volume, \"65006\" the page. So issue_number_page would be \"11, 65006\", year 2021.\n",
       "\n",
       "Wait, the user's schema requires that issue_number_page can be a string or null. So I can format them as strings. Also, the required fields are authors, title, journal, so those must be present. The year and issue_number_page are optional but should be included if present.\n",
       "\n",
       "Let me make sure all entries are in the correct format. The authors are listed with initials and last names, so I just need to list them as is, separated by commas. The titles should be in quotes as per the examples given. The journals are abbreviated as in the references. The issue_number_page will have the volume and page separated by commas. Years are straightforward.\n",
       "\n",
       "Double-checking each entry:\n",
       "\n",
       "For [1], the issue_number_page is \"4, 810\", year 2008. Correct.\n",
       "\n",
       "[2]: \"455, 644\", 2008. Yes.\n",
       "\n",
       "[6]: \"11, 65006\", 2021. Right.\n",
       "\n",
       "Now, structure each item as an object in the array with authors, title, journal, issue_number_page, and year. Since the schema allows for some fields to be null, but these have values, so no need for nulls here.\n",
       "\n",
       "So putting it all together, the JSON array should have three items corresponding to the three references provided. Need to make sure the order is [1], [2], [6] as per the user's input.\n",
       "</think>\n",
       "\n",
       "[\n",
       "  {\n",
       "    \"authors\": \"J. M. Taylor, P. Cappellaro, L. Childress, L. Jiang, D. Budker, P. R. Hemmer, A. Yacoby, R. Walsworth, and M. D. Lukin\",\n",
       "    \"title\": \"High-sensitivity diamond magnetometer with nanoscale resolution\",\n",
       "    \"journal\": \"Nat Phys\",\n",
       "    \"issue_number_page\": \"4, 810\",\n",
       "    \"year\": 2008\n",
       "  },\n",
       "  {\n",
       "    \"authors\": \"J. R. Maze et al.\",\n",
       "    \"title\": \"Nanoscale magnetic sensing with an individual electronic spin in diamond\",\n",
       "    \"journal\": \"Nature\",\n",
       "    \"issue_number_page\": \"455, 644\",\n",
       "    \"year\": 2008\n",
       "  },\n",
       "  {\n",
       "    \"authors\": \"A. Hochstetter and E. Neu\",\n",
       "    \"title\": \"Multi-color laser excitation of diamond nitrogen vacancy centers embedded in nanophotonic structures\",\n",
       "    \"journal\": \"AIP Adv\",\n",
       "    \"issue_number_page\": \"11, 65006\",\n",
       "    \"year\": 2021\n",
       "  }\n",
       "]</div></body>"
      ],
      "text/plain": [
       "<IPython.core.display.HTML object>"
      ]
     },
     "metadata": {},
     "output_type": "display_data"
    }
   ],
   "source": [
    "from radarange_orchestrator.chat import Chat\n",
    "\n",
    "\n",
    "chat = Chat()\n",
    "chat.append(response)\n",
    "\n",
    "chat.display_thoughts()"
   ]
  },
  {
   "cell_type": "code",
   "execution_count": 21,
   "metadata": {},
   "outputs": [],
   "source": [
    "m.close()"
   ]
  }
 ],
 "metadata": {
  "kernelspec": {
   "display_name": ".venv",
   "language": "python",
   "name": "python3"
  },
  "language_info": {
   "codemirror_mode": {
    "name": "ipython",
    "version": 3
   },
   "file_extension": ".py",
   "mimetype": "text/x-python",
   "name": "python",
   "nbconvert_exporter": "python",
   "pygments_lexer": "ipython3",
   "version": "3.10.12"
  }
 },
 "nbformat": 4,
 "nbformat_minor": 2
}
