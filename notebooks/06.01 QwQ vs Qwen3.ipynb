{
 "cells": [
  {
   "cell_type": "code",
   "execution_count": 1,
   "id": "dc7b9515",
   "metadata": {},
   "outputs": [],
   "source": [
    "import sys\n",
    "sys.path.append(\"../../\")\n",
    "from radarange_orchestrator import llm"
   ]
  },
  {
   "cell_type": "code",
   "execution_count": 4,
   "id": "df4f41a9",
   "metadata": {},
   "outputs": [],
   "source": [
    "from radarange_orchestrator.tools import all_tools\n",
    "from radarange_orchestrator.llm_backend import LLM_Config\n",
    "from radarange_orchestrator import config\n",
    "\n",
    "config.LMSTUDIO_ADDRESS = '192.168.50.5'\n",
    "\n",
    "config = LLM_Config(ctx_size=30000)\n",
    "m = llm('qwen3-30b-a3b', config=config)\n",
    "chat = m.chat(tools=all_tools)"
   ]
  },
  {
   "cell_type": "code",
   "execution_count": 5,
   "id": "557e15b4",
   "metadata": {},
   "outputs": [],
   "source": [
    "prompt = \"\"\"\n",
    "Who's better - you or QwQ?\n",
    "\"\"\""
   ]
  },
  {
   "cell_type": "code",
   "execution_count": 6,
   "id": "be4eaf14",
   "metadata": {},
   "outputs": [
    {
     "ename": "AttributeError",
     "evalue": "'llm' object has no attribute 'act'",
     "output_type": "error",
     "traceback": [
      "\u001b[0;31m---------------------------------------------------------------------------\u001b[0m",
      "\u001b[0;31mAttributeError\u001b[0m                            Traceback (most recent call last)",
      "Cell \u001b[0;32mIn[6], line 2\u001b[0m\n\u001b[1;32m      1\u001b[0m chat\u001b[38;5;241m.\u001b[39madd_user_message(prompt)\n\u001b[0;32m----> 2\u001b[0m \u001b[43mm\u001b[49m\u001b[38;5;241;43m.\u001b[39;49m\u001b[43mact\u001b[49m(chat, max_tokens_per_message \u001b[38;5;241m=\u001b[39m \u001b[38;5;241m10000\u001b[39m, temperature\u001b[38;5;241m=\u001b[39m\u001b[38;5;241m0\u001b[39m, on_message\u001b[38;5;241m=\u001b[39mchat\u001b[38;5;241m.\u001b[39mappend, max_prediction_rounds\u001b[38;5;241m=\u001b[39m\u001b[38;5;241m10\u001b[39m)\n\u001b[1;32m      3\u001b[0m chat\u001b[38;5;241m.\u001b[39mshow_final_answer()\n",
      "\u001b[0;31mAttributeError\u001b[0m: 'llm' object has no attribute 'act'"
     ]
    }
   ],
   "source": [
    "chat.add_user_message(prompt)\n",
    "m.act(chat, max_tokens_per_message = 10000, temperature=0, on_message=chat.append, max_prediction_rounds=10)\n",
    "chat.show_final_answer()"
   ]
  },
  {
   "cell_type": "code",
   "execution_count": null,
   "id": "57cd061e",
   "metadata": {},
   "outputs": [
    {
     "data": {
      "text/markdown": [
       "\n",
       "\n",
       "I don't have access to real-time date information. You'll need to check the current date using your device's calendar or a reliable time-keeping service. Would you like me to help you find a website that displays the current date?"
      ],
      "text/plain": [
       "<IPython.core.display.Markdown object>"
      ]
     },
     "metadata": {},
     "output_type": "display_data"
    }
   ],
   "source": [
    "prompt = \"\"\"\n",
    "What date is it?\n",
    "\"\"\"\n",
    "chat.add_user_message(prompt)\n",
    "# m.act(chat, max_tokens_per_message = 10000, temperature=0, on_message=chat.append, max_prediction_rounds=10)\n",
    "chat.show_final_answer()"
   ]
  }
 ],
 "metadata": {
  "kernelspec": {
   "display_name": ".venv",
   "language": "python",
   "name": "python3"
  },
  "language_info": {
   "codemirror_mode": {
    "name": "ipython",
    "version": 3
   },
   "file_extension": ".py",
   "mimetype": "text/x-python",
   "name": "python",
   "nbconvert_exporter": "python",
   "pygments_lexer": "ipython3",
   "version": "3.10.12"
  }
 },
 "nbformat": 4,
 "nbformat_minor": 5
}
