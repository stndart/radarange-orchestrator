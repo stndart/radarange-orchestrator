{
 "cells": [
  {
   "cell_type": "code",
   "execution_count": 1,
   "id": "dc7b9515",
   "metadata": {},
   "outputs": [],
   "source": [
    "import sys\n",
    "sys.path.append(\"../../\")\n",
    "from radarange_orchestrator import llm"
   ]
  },
  {
   "cell_type": "code",
   "execution_count": 2,
   "id": "df4f41a9",
   "metadata": {},
   "outputs": [
    {
     "name": "stderr",
     "output_type": "stream",
     "text": [
      "llama_context: n_ctx_per_seq (10000) < n_ctx_train (131072) -- the full capacity of the model will not be utilized\n",
      "llama_kv_cache_unified: LLAMA_SET_ROWS=0, using old ggml_cpy() method for backwards compatibility\n"
     ]
    }
   ],
   "source": [
    "from radarange_orchestrator.llm_backend import LLM_Config\n",
    "from radarange_orchestrator.tools import time_tool\n",
    "\n",
    "config=LLM_Config(gpus=[1], ctx_size=10000)\n",
    "# m = llm(model='qwq-32b@q4_k_m', backend='lmstudio', config=config)\n",
    "m = llm(model='QwQ-32B-Q4_K_M.gguf', backend='llama_cpp', config=config)\n",
    "chat = m.chat(tools=[time_tool])"
   ]
  },
  {
   "cell_type": "code",
   "execution_count": 3,
   "id": "bb6d81e3",
   "metadata": {},
   "outputs": [],
   "source": [
    "message = \"\"\"What time is it?\"\"\""
   ]
  },
  {
   "cell_type": "code",
   "execution_count": 4,
   "id": "57cd061e",
   "metadata": {},
   "outputs": [
    {
     "name": "stdout",
     "output_type": "stream",
     "text": [
      "Your message is 5 tokens\n"
     ]
    },
    {
     "data": {
      "text/markdown": [
       "\n",
       "\n",
       "The current time is July 10, 2025, at 1:12:21 PM."
      ],
      "text/plain": [
       "<IPython.core.display.Markdown object>"
      ]
     },
     "execution_count": 4,
     "metadata": {},
     "output_type": "execute_result"
    }
   ],
   "source": [
    "chat.add_user_message(message)\n",
    "print(f\"Your message is {m.count_tokens(message)} tokens\")\n",
    "m.act(chat, max_tokens_per_message = 10000, temperature=0.8, on_message=chat.add_message)\n",
    "chat.show_final_answer()"
   ]
  },
  {
   "cell_type": "code",
   "execution_count": 5,
   "id": "edb893be",
   "metadata": {},
   "outputs": [
    {
     "name": "stdout",
     "output_type": "stream",
     "text": [
      "Your message is 10 tokens\n"
     ]
    },
    {
     "data": {
      "text/markdown": [
       "\n",
       "\n",
       "I don't have access to real-time weather data. You might want to check a weather app or website for the latest forecast in your area!"
      ],
      "text/plain": [
       "<IPython.core.display.Markdown object>"
      ]
     },
     "execution_count": 5,
     "metadata": {},
     "output_type": "execute_result"
    }
   ],
   "source": [
    "prompt = \"And the weather is good, isn't it?\"\n",
    "chat.add_user_message(prompt)\n",
    "print(f\"Your message is {m.count_tokens(prompt)} tokens\")\n",
    "m.act(chat, max_tokens_per_message = 10000, temperature=0.8, on_message=chat.add_message)\n",
    "chat.show_final_answer()"
   ]
  },
  {
   "cell_type": "code",
   "execution_count": null,
   "id": "6c0235ba",
   "metadata": {},
   "outputs": [],
   "source": []
  }
 ],
 "metadata": {
  "kernelspec": {
   "display_name": ".venv",
   "language": "python",
   "name": "python3"
  },
  "language_info": {
   "codemirror_mode": {
    "name": "ipython",
    "version": 3
   },
   "file_extension": ".py",
   "mimetype": "text/x-python",
   "name": "python",
   "nbconvert_exporter": "python",
   "pygments_lexer": "ipython3",
   "version": "3.10.12"
  }
 },
 "nbformat": 4,
 "nbformat_minor": 5
}
