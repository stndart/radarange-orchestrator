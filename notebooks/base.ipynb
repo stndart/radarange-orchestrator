{
 "cells": [
  {
   "cell_type": "code",
   "execution_count": 1,
   "id": "dc7b9515",
   "metadata": {},
   "outputs": [],
   "source": [
    "import sys\n",
    "sys.path.append(\"../../\")\n",
    "from radarange_orchestrator import llm, Chat"
   ]
  },
  {
   "cell_type": "code",
   "execution_count": 2,
   "id": "df4f41a9",
   "metadata": {},
   "outputs": [
    {
     "name": "stdout",
     "output_type": "stream",
     "text": [
      "Connecting to host: 95.165.10.219:1234\n"
     ]
    }
   ],
   "source": [
    "from radarange_orchestrator.tools import time_tool\n",
    "m = llm(model='qwq-32b@q4_k_m')\n",
    "chat = m.chat(tools=[time_tool])"
   ]
  },
  {
   "cell_type": "code",
   "execution_count": 3,
   "id": "bb6d81e3",
   "metadata": {},
   "outputs": [],
   "source": [
    "message = \"\"\"What time is it?\"\"\""
   ]
  },
  {
   "cell_type": "code",
   "execution_count": 4,
   "id": "57cd061e",
   "metadata": {},
   "outputs": [
    {
     "name": "stdout",
     "output_type": "stream",
     "text": [
      "Your message is 5 tokens\n"
     ]
    },
    {
     "data": {
      "text/markdown": [
       "\n",
       "\n",
       "\n",
       "The current time is **1:46:47 PM** on **June 26, 2025**, based on your local timezone. Let me know if you need further assistance!"
      ],
      "text/plain": [
       "<IPython.core.display.Markdown object>"
      ]
     },
     "execution_count": 4,
     "metadata": {},
     "output_type": "execute_result"
    }
   ],
   "source": [
    "chat.add_user_message(message)\n",
    "print(f\"Your message is {m.model.model.model.count_tokens(message)} tokens\")\n",
    "m.act(chat, max_tokens_per_message = 10000, temperature=0.8, on_message=chat.append)\n",
    "chat.show_final_answer()"
   ]
  },
  {
   "cell_type": "code",
   "execution_count": 5,
   "id": "edb893be",
   "metadata": {},
   "outputs": [
    {
     "data": {
      "text/markdown": [
       "\n",
       "\n",
       "\n",
       "I don't have access to real-time weather data or sensors to check current weather conditions. You might want to check a weather app or website for live updates! Would you like me to help with something else? 😊"
      ],
      "text/plain": [
       "<IPython.core.display.Markdown object>"
      ]
     },
     "execution_count": 5,
     "metadata": {},
     "output_type": "execute_result"
    }
   ],
   "source": [
    "prompt = \"And the weather is good, isn't it?\"\n",
    "chat.add_user_message(prompt)\n",
    "m.act(chat, max_tokens_per_message = 10000, temperature=0.8, on_message=chat.append)\n",
    "chat.show_final_answer()"
   ]
  },
  {
   "cell_type": "code",
   "execution_count": null,
   "id": "6c0235ba",
   "metadata": {},
   "outputs": [],
   "source": []
  }
 ],
 "metadata": {
  "kernelspec": {
   "display_name": ".venv",
   "language": "python",
   "name": "python3"
  },
  "language_info": {
   "codemirror_mode": {
    "name": "ipython",
    "version": 3
   },
   "file_extension": ".py",
   "mimetype": "text/x-python",
   "name": "python",
   "nbconvert_exporter": "python",
   "pygments_lexer": "ipython3",
   "version": "3.11.1"
  }
 },
 "nbformat": 4,
 "nbformat_minor": 5
}
