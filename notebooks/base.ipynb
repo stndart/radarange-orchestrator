{
 "cells": [
  {
   "cell_type": "code",
   "execution_count": null,
   "id": "dc7b9515",
   "metadata": {},
   "outputs": [],
   "source": [
    "import sys\n",
    "sys.path.append(\"../../\")\n",
    "from radarange_orchestrator import llm, Chat"
   ]
  },
  {
   "cell_type": "code",
   "execution_count": null,
   "id": "df4f41a9",
   "metadata": {},
   "outputs": [],
   "source": [
    "from radarange_orchestrator.tools import time_tool\n",
    "m = llm(model='qwq-32b@q4_k_m')\n",
    "chat = m.chat(tools=[time_tool])"
   ]
  },
  {
   "cell_type": "code",
   "execution_count": null,
   "id": "bb6d81e3",
   "metadata": {},
   "outputs": [],
   "source": [
    "message = \"\"\"What time is it?\"\"\""
   ]
  },
  {
   "cell_type": "code",
   "execution_count": null,
   "id": "57cd061e",
   "metadata": {},
   "outputs": [],
   "source": [
    "chat.add_user_message(message)\n",
    "print(f\"Your message is {m.model.model.model.count_tokens(message)} tokens\")\n",
    "m.act(chat, max_tokens_per_message = 10000, temperature=0.8, on_message=chat.append)\n",
    "chat.show_final_answer()"
   ]
  },
  {
   "cell_type": "code",
   "execution_count": null,
   "id": "edb893be",
   "metadata": {},
   "outputs": [],
   "source": [
    "prompt = \"And the weather is good, isn't it?\"\n",
    "chat.add_user_message(prompt)\n",
    "m.act(chat, max_tokens_per_message = 10000, temperature=0.8, on_message=chat.append)\n",
    "chat.show_final_answer()"
   ]
  },
  {
   "cell_type": "code",
   "execution_count": null,
   "id": "6c0235ba",
   "metadata": {},
   "outputs": [],
   "source": []
  }
 ],
 "metadata": {
  "kernelspec": {
   "display_name": ".venv",
   "language": "python",
   "name": "python3"
  },
  "language_info": {
   "codemirror_mode": {
    "name": "ipython",
    "version": 3
   },
   "file_extension": ".py",
   "mimetype": "text/x-python",
   "name": "python",
   "nbconvert_exporter": "python",
   "pygments_lexer": "ipython3",
   "version": "3.11.1"
  }
 },
 "nbformat": 4,
 "nbformat_minor": 5
}
