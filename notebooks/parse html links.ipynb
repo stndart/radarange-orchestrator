{
 "cells": [
  {
   "cell_type": "code",
   "execution_count": 3,
   "metadata": {},
   "outputs": [],
   "source": [
    "import sys\n",
    "sys.path.append(\"../../\")\n",
    "from radarange_orchestrator import llm"
   ]
  },
  {
   "cell_type": "code",
   "execution_count": 4,
   "metadata": {},
   "outputs": [],
   "source": [
    "from radarange_orchestrator.tools import all_tools, scrape_tool\n",
    "# m = llm()\n",
    "# chat = m.chat(tools = all_tools)"
   ]
  },
  {
   "cell_type": "code",
   "execution_count": 5,
   "metadata": {},
   "outputs": [
    {
     "name": "stdout",
     "output_type": "stream",
     "text": [
      "Called scrape_web_page with href: https://arxiv.org/abs/2410.06658\n",
      "Taken 0.4 seconds to complete.\n"
     ]
    }
   ],
   "source": [
    "url = \"https://arxiv.org/abs/2410.06658\"\n",
    "\n",
    "res = scrape_tool.handler(href=url)"
   ]
  },
  {
   "cell_type": "code",
   "execution_count": 13,
   "metadata": {},
   "outputs": [
    {
     "data": {
      "text/plain": [
       "'[Submitted on 9 Oct 2024 (\\n\\n[v1](https://arxiv.org/abs/2410.06658v1)\\n\\n), last revised 20 Mar 2025 (this version, v2)]\\n\\n# Title:Bichromatic microwave manipulation of the NV center nuclear spin using\\ntransition not detectable via optically detected magnetic resonance\\n\\nAuthors:[S.M. Drofa](https://arxiv.org/search/quant-\\nph?searchtype=author&query=Drofa,+S)\\n\\n,\\n\\n[V.V. Soshenko](https://arxiv.org/search/quant-\\nph?searchtype=author&query=Soshenko,+V)\\n\\n,\\n\\n[I.S. Cojocaru](https://arxiv.org/search/quant-'"
      ]
     },
     "execution_count": 13,
     "metadata": {},
     "output_type": "execute_result"
    }
   ],
   "source": [
    "import requests\n",
    "from html2text import html2text\n",
    "from readability import Document\n",
    "\n",
    "# 1. Fetch page\n",
    "headers = {\"User-Agent\": \"Mozilla/5.0\"}\n",
    "response = requests.get(url, headers=headers, timeout=15)\n",
    "response.raise_for_status()\n",
    "\n",
    "# 2. Extract main content\n",
    "doc = Document(response.text)\n",
    "cleaned_html = doc.summary()\n",
    "\n",
    "# 3. Convert to clean Markdown\n",
    "h = html2text(cleaned_html, baseurl=url)\n",
    "# h.ignore_links = False\n",
    "markdown_content = h#.handle(cleaned_html)\n",
    "\n",
    "# 4. Truncate for LLM context\n",
    "markdown_content[:500]"
   ]
  },
  {
   "cell_type": "code",
   "execution_count": 11,
   "metadata": {},
   "outputs": [
    {
     "data": {
      "text/plain": [
       "'<html><body><div><div id=\"content-inner\">\\n  <div id=\"abs\">\\n    <div class=\"dateline\"><p>\\n  [Submitted on 9 Oct 2024 (</p><a href=\"https://arxiv.org/abs/2410.06658v1\">v1</a><p>), last revised 20 Mar 2025 (this version, v2)]</p></div>\\n    <h1 class=\"title mathjax\"><span class=\"descriptor\">Title:</span>Bichromatic microwave manipulation of the NV center nuclear spin using transition not detectable via optically detected magnetic resonance</h1>\\n    <div class=\"authors\"><span class=\"descriptor\">Authors:</span><a href=\"https://arxiv.org/search/quant-ph?searchtype=author&amp;query=Drofa,+S\" rel=\"nofo'"
      ]
     },
     "execution_count": 11,
     "metadata": {},
     "output_type": "execute_result"
    }
   ],
   "source": [
    "cleaned_html[:600]"
   ]
  },
  {
   "cell_type": "code",
   "execution_count": null,
   "metadata": {},
   "outputs": [],
   "source": []
  },
  {
   "cell_type": "code",
   "execution_count": null,
   "metadata": {},
   "outputs": [],
   "source": []
  },
  {
   "cell_type": "code",
   "execution_count": null,
   "metadata": {},
   "outputs": [],
   "source": []
  },
  {
   "cell_type": "code",
   "execution_count": null,
   "metadata": {},
   "outputs": [],
   "source": []
  },
  {
   "cell_type": "code",
   "execution_count": null,
   "metadata": {},
   "outputs": [],
   "source": []
  },
  {
   "cell_type": "code",
   "execution_count": null,
   "metadata": {},
   "outputs": [],
   "source": []
  },
  {
   "cell_type": "code",
   "execution_count": null,
   "metadata": {},
   "outputs": [],
   "source": []
  },
  {
   "cell_type": "code",
   "execution_count": null,
   "metadata": {},
   "outputs": [],
   "source": []
  },
  {
   "cell_type": "code",
   "execution_count": null,
   "metadata": {},
   "outputs": [],
   "source": []
  },
  {
   "cell_type": "code",
   "execution_count": null,
   "metadata": {},
   "outputs": [],
   "source": []
  },
  {
   "cell_type": "code",
   "execution_count": null,
   "metadata": {},
   "outputs": [],
   "source": []
  },
  {
   "cell_type": "code",
   "execution_count": null,
   "metadata": {},
   "outputs": [],
   "source": []
  }
 ],
 "metadata": {
  "kernelspec": {
   "display_name": "venv",
   "language": "python",
   "name": "python3"
  },
  "language_info": {
   "codemirror_mode": {
    "name": "ipython",
    "version": 3
   },
   "file_extension": ".py",
   "mimetype": "text/x-python",
   "name": "python",
   "nbconvert_exporter": "python",
   "pygments_lexer": "ipython3",
   "version": "3.10.12"
  }
 },
 "nbformat": 4,
 "nbformat_minor": 2
}
